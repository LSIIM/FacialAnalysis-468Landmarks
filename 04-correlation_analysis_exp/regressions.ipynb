{
 "cells": [
  {
   "cell_type": "code",
   "execution_count": 1,
   "metadata": {},
   "outputs": [],
   "source": [
    "import numpy as np\n",
    "import pandas as pd\n",
    "from definitions import *\n",
    "from tqdm import tqdm\n",
    "from scipy import stats"
   ]
  },
  {
   "cell_type": "code",
   "execution_count": 2,
   "metadata": {},
   "outputs": [],
   "source": [
    "users_aggregated_data = pd.read_csv(\"./aggregated_data.csv\", index_col=0)"
   ]
  },
  {
   "cell_type": "code",
   "execution_count": 10,
   "metadata": {},
   "outputs": [],
   "source": [
    "intercept,xa,xb,xc = np.polyfit(users_aggregated_data[\"05-00_2\"],users_aggregated_data[\"asrsb_score\"],3).tolist()"
   ]
  },
  {
   "cell_type": "code",
   "execution_count": 12,
   "metadata": {},
   "outputs": [],
   "source": [
    "def f(i,a,b,c,x):\n",
    "    return float( i + a*x + b*(x**2) + c*(x**3))"
   ]
  },
  {
   "cell_type": "code",
   "execution_count": 13,
   "metadata": {},
   "outputs": [
    {
     "ename": "TypeError",
     "evalue": "'numpy.float64' object cannot be interpreted as an integer",
     "output_type": "error",
     "traceback": [
      "\u001b[1;31m---------------------------------------------------------------------------\u001b[0m",
      "\u001b[1;31mTypeError\u001b[0m                                 Traceback (most recent call last)",
      "\u001b[1;32me:\\Projetos\\UFSC\\MIGMA\\FacialAnalysis-468Landmarks\\04-correlation_analysis_exp\\regressions.ipynb Cell 5'\u001b[0m in \u001b[0;36m<cell line: 2>\u001b[1;34m()\u001b[0m\n\u001b[0;32m      <a href='vscode-notebook-cell:/e%3A/Projetos/UFSC/MIGMA/FacialAnalysis-468Landmarks/04-correlation_analysis_exp/regressions.ipynb#ch0000004?line=0'>1</a>\u001b[0m y \u001b[39m=\u001b[39m []\n\u001b[1;32m----> <a href='vscode-notebook-cell:/e%3A/Projetos/UFSC/MIGMA/FacialAnalysis-468Landmarks/04-correlation_analysis_exp/regressions.ipynb#ch0000004?line=1'>2</a>\u001b[0m \u001b[39mfor\u001b[39;00m i \u001b[39min\u001b[39;00m \u001b[39mrange\u001b[39;49m(users_aggregated_data[\u001b[39m\"\u001b[39;49m\u001b[39m05-00_2\u001b[39;49m\u001b[39m\"\u001b[39;49m]\u001b[39m.\u001b[39;49mmax()):\n\u001b[0;32m      <a href='vscode-notebook-cell:/e%3A/Projetos/UFSC/MIGMA/FacialAnalysis-468Landmarks/04-correlation_analysis_exp/regressions.ipynb#ch0000004?line=2'>3</a>\u001b[0m     y\u001b[39m.\u001b[39mappend(f(i))\n",
      "\u001b[1;31mTypeError\u001b[0m: 'numpy.float64' object cannot be interpreted as an integer"
     ]
    }
   ],
   "source": [
    "y = []\n",
    "for i in range(users_aggregated_data[\"05-00_2\"].max()):\n",
    "    y.append(f(int(i)))"
   ]
  },
  {
   "cell_type": "code",
   "execution_count": null,
   "metadata": {},
   "outputs": [],
   "source": []
  }
 ],
 "metadata": {
  "interpreter": {
   "hash": "dfeb679b71e72e99b58c3c3eabae007d128c35640555dbe60f185f65b527d03c"
  },
  "kernelspec": {
   "display_name": "Python 3.9.10 ('04-correlation_analysis_exp-Wj3_WWyr')",
   "language": "python",
   "name": "python3"
  },
  "language_info": {
   "codemirror_mode": {
    "name": "ipython",
    "version": 3
   },
   "file_extension": ".py",
   "mimetype": "text/x-python",
   "name": "python",
   "nbconvert_exporter": "python",
   "pygments_lexer": "ipython3",
   "version": "3.9.10"
  },
  "orig_nbformat": 4
 },
 "nbformat": 4,
 "nbformat_minor": 2
}
