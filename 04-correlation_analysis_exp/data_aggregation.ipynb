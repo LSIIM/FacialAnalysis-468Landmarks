{
 "cells": [
  {
   "cell_type": "code",
   "execution_count": 3,
   "metadata": {},
   "outputs": [],
   "source": [
    "import numpy as np\n",
    "import pandas as pd\n",
    "from definitions import *\n",
    "from tqdm import tqdm\n"
   ]
  },
  {
   "cell_type": "code",
   "execution_count": 4,
   "metadata": {},
   "outputs": [],
   "source": [
    "points_above_average = pd.read_csv(\"./points_above_average.csv\", index_col=0)"
   ]
  },
  {
   "cell_type": "code",
   "execution_count": 26,
   "metadata": {},
   "outputs": [],
   "source": [
    "users_aggregated_data = pd.DataFrame()"
   ]
  },
  {
   "cell_type": "code",
   "execution_count": 27,
   "metadata": {},
   "outputs": [
    {
     "name": "stderr",
     "output_type": "stream",
     "text": [
      "100%|██████████| 309/309 [01:01<00:00,  5.05it/s]\n"
     ]
    }
   ],
   "source": [
    "users = os.listdir(PATTERN_TEST_PATH_SAME_POINT)\n",
    "data = [ [\"user\", users]]\n",
    "for user in tqdm(users):\n",
    "    arqs = os.listdir(PATTERN_TEST_PATH_SAME_POINT + \"/\" + user)\n",
    "    for arq in arqs:\n",
    "        mask_ref = arq.split(\"_\")[0]\n",
    "        if(mask_ref == \"00-00\"):\n",
    "            continue\n",
    "        user_mask = pd.read_csv(PATTERN_TEST_PATH_SAME_POINT + \"/\" + user+\"/\"+arq, index_col=0)\n",
    "        user_mask =user_mask[user_mask[\"origins\"].isin(points_above_average[\"points_above_average\"].tolist())]\n",
    "        user_mask = user_mask.set_index('origins').join(points_above_average.set_index('points_above_average'))\n",
    "        distances_means = user_mask.groupby(\"kmean_group\").mean()[\"distances\"].tolist()\n",
    "        #print(distances_means)\n",
    "        for i in range(6):\n",
    "            achou = False\n",
    "            for j in range(len(data)):\n",
    "                if(data[j][0] == mask_ref + \"_\" + str(i)):\n",
    "                    achou = True\n",
    "            if(not achou):\n",
    "                data.append([mask_ref + \"_\" + str(i),[]])\n",
    "            \n",
    "            for j in range(len(data)):\n",
    "                if(data[j][0] == mask_ref + \"_\" + str(i)):\n",
    "                    data[j][1].append(distances_means[i])\n",
    "        \n",
    "for i in range(len(data)):\n",
    "    #print(len(data[i][1]))\n",
    "    users_aggregated_data[data[i][0]] = np.array(data[i][1])\n",
    "\n",
    "        "
   ]
  },
  {
   "cell_type": "code",
   "execution_count": 13,
   "metadata": {},
   "outputs": [],
   "source": [
    "users_aggregated_data.to_csv(\"./aggregated_data.csv\")"
   ]
  },
  {
   "cell_type": "code",
   "execution_count": 29,
   "metadata": {},
   "outputs": [],
   "source": [
    "users_aggregated_data.to_excel(\"./aggregated_data.xlsx\", engine='xlsxwriter')  "
   ]
  },
  {
   "cell_type": "code",
   "execution_count": 5,
   "metadata": {},
   "outputs": [],
   "source": [
    "users_aggregated_data = pd.read_csv(\"./aggregated_data.csv\", index_col=0)"
   ]
  },
  {
   "cell_type": "code",
   "execution_count": 6,
   "metadata": {},
   "outputs": [
    {
     "data": {
      "text/plain": [
       "['total_scores_by_user.csv']"
      ]
     },
     "execution_count": 6,
     "metadata": {},
     "output_type": "execute_result"
    }
   ],
   "source": [
    "os.listdir(FORMS_PATH)"
   ]
  },
  {
   "cell_type": "code",
   "execution_count": 8,
   "metadata": {},
   "outputs": [],
   "source": [
    "tests_df = pd.read_csv(FORMS_PATH+\"/total_scores_by_user.csv\",index_col=0)"
   ]
  },
  {
   "cell_type": "code",
   "execution_count": 12,
   "metadata": {},
   "outputs": [],
   "source": [
    "\n",
    "users_aggregated_data = users_aggregated_data.set_index('user').join(tests_df.set_index('id_user'))"
   ]
  }
 ],
 "metadata": {
  "interpreter": {
   "hash": "dfeb679b71e72e99b58c3c3eabae007d128c35640555dbe60f185f65b527d03c"
  },
  "kernelspec": {
   "display_name": "Python 3.9.10 ('04-correlation_analysis_exp-Wj3_WWyr')",
   "language": "python",
   "name": "python3"
  },
  "language_info": {
   "codemirror_mode": {
    "name": "ipython",
    "version": 3
   },
   "file_extension": ".py",
   "mimetype": "text/x-python",
   "name": "python",
   "nbconvert_exporter": "python",
   "pygments_lexer": "ipython3",
   "version": "3.9.10"
  },
  "orig_nbformat": 4
 },
 "nbformat": 4,
 "nbformat_minor": 2
}
