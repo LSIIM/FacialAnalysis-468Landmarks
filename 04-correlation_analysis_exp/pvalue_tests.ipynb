{
 "cells": [
  {
   "cell_type": "code",
   "execution_count": 3,
   "metadata": {},
   "outputs": [],
   "source": [
    "import numpy as np\n",
    "import pandas as pd\n",
    "from definitions import *\n",
    "from tqdm import tqdm\n",
    "from scipy import stats"
   ]
  },
  {
   "cell_type": "code",
   "execution_count": 2,
   "metadata": {},
   "outputs": [],
   "source": [
    "users_aggregated_data = pd.read_csv(\"./aggregated_data.csv\", index_col=0)"
   ]
  },
  {
   "cell_type": "code",
   "execution_count": 25,
   "metadata": {},
   "outputs": [],
   "source": [
    "df_pvalues = pd.DataFrame()"
   ]
  },
  {
   "cell_type": "code",
   "execution_count": 21,
   "metadata": {},
   "outputs": [],
   "source": [
    "data = [[\"test_col\",[]]]\n",
    "for col in users_aggregated_data:\n",
    "    data.append([col,[]])"
   ]
  },
  {
   "cell_type": "code",
   "execution_count": 23,
   "metadata": {},
   "outputs": [],
   "source": [
    "\n",
    "for col1 in users_aggregated_data:\n",
    "    data[0][1].append(col1)\n",
    "    for col2 in users_aggregated_data:\n",
    "        r,p = stats.pearsonr(users_aggregated_data[col1], users_aggregated_data[col2])\n",
    "        for i in range(len(data)):\n",
    "            if(data[i][0] == col2):\n",
    "                data[i][1].append(p)\n",
    "    \n"
   ]
  },
  {
   "cell_type": "code",
   "execution_count": 26,
   "metadata": {},
   "outputs": [],
   "source": [
    "for dt in data:\n",
    "    df_pvalues[dt[0]] = np.array(dt[1])"
   ]
  },
  {
   "cell_type": "code",
   "execution_count": 28,
   "metadata": {},
   "outputs": [],
   "source": [
    "df_pvalues.to_csv(\"pvalue_tests.csv\")"
   ]
  },
  {
   "cell_type": "markdown",
   "metadata": {},
   "source": [
    "### threshold = 0.005 (sobs falou)"
   ]
  },
  {
   "cell_type": "code",
   "execution_count": 67,
   "metadata": {},
   "outputs": [],
   "source": [
    "pvalue_threshold = 0.5"
   ]
  },
  {
   "cell_type": "code",
   "execution_count": 68,
   "metadata": {},
   "outputs": [],
   "source": [
    "ref = []\n",
    "dest = []\n",
    "val = []\n",
    "for index, row in df_pvalues.iterrows():\n",
    "    for col in df_pvalues:\n",
    "        if(col!=\"test_col\"):\n",
    "            if(row[col]>=pvalue_threshold):\n",
    "                ref.append(row[\"test_col\"])\n",
    "                dest.append(col)\n",
    "                val.append(row[col])\n"
   ]
  },
  {
   "cell_type": "code",
   "execution_count": 69,
   "metadata": {},
   "outputs": [],
   "source": [
    "signif_values_df = pd.DataFrame()"
   ]
  },
  {
   "cell_type": "code",
   "execution_count": 70,
   "metadata": {},
   "outputs": [],
   "source": [
    "signif_values_df[\"col_a\"] = np.array(ref)\n",
    "signif_values_df[\"col_b\"] = np.array(dest)\n",
    "signif_values_df[\"pvalue\"] = np.array(val)\n"
   ]
  },
  {
   "cell_type": "code",
   "execution_count": 71,
   "metadata": {},
   "outputs": [],
   "source": [
    "signif_values_df.to_csv(\"significant_pvalues-\"+str(pvalue_threshold)+\".csv\")"
   ]
  },
  {
   "cell_type": "code",
   "execution_count": null,
   "metadata": {},
   "outputs": [],
   "source": []
  }
 ],
 "metadata": {
  "interpreter": {
   "hash": "dfeb679b71e72e99b58c3c3eabae007d128c35640555dbe60f185f65b527d03c"
  },
  "kernelspec": {
   "display_name": "Python 3.9.10 ('04-correlation_analysis_exp-Wj3_WWyr')",
   "language": "python",
   "name": "python3"
  },
  "language_info": {
   "codemirror_mode": {
    "name": "ipython",
    "version": 3
   },
   "file_extension": ".py",
   "mimetype": "text/x-python",
   "name": "python",
   "nbconvert_exporter": "python",
   "pygments_lexer": "ipython3",
   "version": "3.9.10"
  },
  "orig_nbformat": 4
 },
 "nbformat": 4,
 "nbformat_minor": 2
}
