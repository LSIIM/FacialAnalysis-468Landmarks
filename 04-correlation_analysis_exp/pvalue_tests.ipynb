{
 "cells": [
  {
   "cell_type": "code",
   "execution_count": 3,
   "metadata": {},
   "outputs": [],
   "source": [
    "import numpy as np\n",
    "import pandas as pd\n",
    "from definitions import *\n",
    "from tqdm import tqdm\n",
    "from scipy import stats"
   ]
  },
  {
   "cell_type": "code",
   "execution_count": 2,
   "metadata": {},
   "outputs": [],
   "source": [
    "users_aggregated_data = pd.read_csv(\"./aggregated_data.csv\", index_col=0)"
   ]
  },
  {
   "cell_type": "code",
   "execution_count": 25,
   "metadata": {},
   "outputs": [],
   "source": [
    "df_pvalues = pd.DataFrame()"
   ]
  },
  {
   "cell_type": "code",
   "execution_count": 21,
   "metadata": {},
   "outputs": [],
   "source": [
    "data = [[\"test_col\",[]]]\n",
    "for col in users_aggregated_data:\n",
    "    data.append([col,[]])"
   ]
  },
  {
   "cell_type": "code",
   "execution_count": 23,
   "metadata": {},
   "outputs": [],
   "source": [
    "\n",
    "for col1 in users_aggregated_data:\n",
    "    data[0][1].append(col1)\n",
    "    for col2 in users_aggregated_data:\n",
    "        r,p = stats.pearsonr(users_aggregated_data[col1], users_aggregated_data[col2])\n",
    "        for i in range(len(data)):\n",
    "            if(data[i][0] == col2):\n",
    "                data[i][1].append(p)\n",
    "    \n"
   ]
  },
  {
   "cell_type": "code",
   "execution_count": 26,
   "metadata": {},
   "outputs": [],
   "source": [
    "for dt in data:\n",
    "    df_pvalues[dt[0]] = np.array(dt[1])"
   ]
  },
  {
   "cell_type": "code",
   "execution_count": 28,
   "metadata": {},
   "outputs": [],
   "source": [
    "df_pvalues.to_csv(\"pvalue_tests.csv\")"
   ]
  },
  {
   "cell_type": "markdown",
   "metadata": {},
   "source": [
    "### threshold = 0.005 (sobs falou)"
   ]
  },
  {
   "cell_type": "code",
   "execution_count": 106,
   "metadata": {},
   "outputs": [],
   "source": [
    "def run_filters(threshold):\n",
    "    pvalue_threshold = threshold\n",
    "    ref = []\n",
    "    dest = []\n",
    "    val = []\n",
    "    for index, row in df_pvalues.iterrows():\n",
    "        for col in df_pvalues:\n",
    "            if(col!=\"test_col\"):\n",
    "                if(row[col]>=pvalue_threshold):\n",
    "                    if(row[\"test_col\"] in dest and col in ref):\n",
    "                        continue\n",
    "                    ref.append(row[\"test_col\"])\n",
    "                    dest.append(col)\n",
    "                    val.append(row[col])\n",
    "    signif_values_df = pd.DataFrame()\n",
    "    signif_values_df[\"col_a\"] = np.array(ref)\n",
    "    signif_values_df[\"col_b\"] = np.array(dest)\n",
    "    signif_values_df[\"pvalue\"] = np.array(val)\n",
    "    signif_values_df.to_csv(\"significant_pvalues-\"+str(pvalue_threshold)+\".csv\")"
   ]
  },
  {
   "cell_type": "code",
   "execution_count": 107,
   "metadata": {},
   "outputs": [],
   "source": [
    "ths_values = [0.1,0.3,0.5,0.05,0.005,0.7,0.8,0.9]\n",
    "for t_val in ths_values:\n",
    "    run_filters(t_val)"
   ]
  },
  {
   "cell_type": "code",
   "execution_count": 130,
   "metadata": {},
   "outputs": [],
   "source": [
    "def map_and_sort_results(threshold):\n",
    "    sig_df = pd.read_csv(\"significant_pvalues-\"+str(threshold)+\".csv\",index_col = 0)\n",
    "    sig_df[\"col_a\"] = sig_df[\"col_a\"].map(lambda col: col.split(\"_\")[1])\n",
    "    sig_df = sig_df.sort_values(by = ['col_a', 'col_b'], ascending = [True, False], na_position = 'first')\n",
    "    sig_df.to_csv(\"significant_pvalues-\"+str(threshold)+\"-sorted.csv\")\n",
    "    sig_df = sig_df.groupby(['col_a', 'col_b']).count()\n",
    "    sig_df.to_csv(\"significant_pvalues-\"+str(threshold)+\"-count.csv\")\n"
   ]
  },
  {
   "cell_type": "code",
   "execution_count": 131,
   "metadata": {},
   "outputs": [
    {
     "name": "stdout",
     "output_type": "stream",
     "text": [
      "                   pvalue\n",
      "col_a col_b              \n",
      "0     01-00_5           2\n",
      "      05-00_1           2\n",
      "      age               2\n",
      "      asrsa_score       1\n",
      "      bai_score         1\n",
      "      sqr_score         2\n",
      "1     05-00_0           1\n",
      "      05-01_0           1\n",
      "      06-00_2           1\n",
      "      asrsb_score       1\n",
      "      bai_score         3\n",
      "      dbi_score         1\n",
      "      oci_score         2\n",
      "      sqr_score         3\n",
      "2     01-00_0           1\n",
      "      03-00_3           1\n",
      "      05-00_4           1\n",
      "      asrsb_score       1\n",
      "      oci_score         1\n",
      "3     07-01_2           1\n",
      "      asrsa_score       2\n",
      "      bai_score         2\n",
      "      dbi_score         2\n",
      "      oci_score         3\n",
      "      sqr_score         1\n",
      "4     03-01_0           1\n",
      "      05-00_0           1\n",
      "      05-00_3           1\n",
      "      06-00_2           1\n",
      "      age               1\n",
      "      asrsa_score       1\n",
      "      asrsb_score       2\n",
      "      bai_score         2\n",
      "      dbi_score         3\n",
      "      oci_score         1\n",
      "      sqr_score         1\n",
      "5     01-00_0           1\n",
      "      05-00_0           1\n",
      "      asrsa_score       1\n",
      "      bai_score         1\n",
      "      sqr_score         1\n"
     ]
    }
   ],
   "source": [
    "map_and_sort_results(0.9)"
   ]
  },
  {
   "cell_type": "code",
   "execution_count": 127,
   "metadata": {},
   "outputs": [],
   "source": [
    "for t_val in ths_values:\n",
    "    map_and_sort_results(t_val)"
   ]
  }
 ],
 "metadata": {
  "interpreter": {
   "hash": "dfeb679b71e72e99b58c3c3eabae007d128c35640555dbe60f185f65b527d03c"
  },
  "kernelspec": {
   "display_name": "Python 3.9.10 ('04-correlation_analysis_exp-Wj3_WWyr')",
   "language": "python",
   "name": "python3"
  },
  "language_info": {
   "codemirror_mode": {
    "name": "ipython",
    "version": 3
   },
   "file_extension": ".py",
   "mimetype": "text/x-python",
   "name": "python",
   "nbconvert_exporter": "python",
   "pygments_lexer": "ipython3",
   "version": "3.9.10"
  },
  "orig_nbformat": 4
 },
 "nbformat": 4,
 "nbformat_minor": 2
}
