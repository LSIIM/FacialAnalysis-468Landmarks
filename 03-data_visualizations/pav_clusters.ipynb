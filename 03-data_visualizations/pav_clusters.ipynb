{
 "cells": [
  {
   "cell_type": "code",
   "execution_count": 28,
   "metadata": {},
   "outputs": [],
   "source": [
    "import pandas as pd\n",
    "import numpy as np\n",
    "from tqdm import tqdm\n",
    "import matplotlib.pyplot as plt\n",
    "import seaborn as sns\n",
    "import os\n",
    "import math\n",
    "from definitions import *\n",
    "import cv2\n",
    "from triangles import TRIANGLES\n",
    "import random"
   ]
  },
  {
   "cell_type": "code",
   "execution_count": 5,
   "metadata": {},
   "outputs": [],
   "source": [
    "pavs = pd.read_csv(\"points_above_average.csv\",index_col=0)[\"points_above_average\"].tolist()"
   ]
  },
  {
   "cell_type": "code",
   "execution_count": 7,
   "metadata": {},
   "outputs": [
    {
     "data": {
      "text/plain": [
       "77"
      ]
     },
     "execution_count": 7,
     "metadata": {},
     "output_type": "execute_result"
    }
   ],
   "source": [
    "len(pavs)"
   ]
  },
  {
   "cell_type": "code",
   "execution_count": 26,
   "metadata": {},
   "outputs": [],
   "source": [
    "pavs_groups = []\n",
    "groups_qtd = len(pavs)/11\n",
    "for i in range(len(pavs)):\n",
    "    #print((i%groups_qtd) +groups_qtd * int(i/groups_qtd))\n",
    "    if(len(pavs_groups)<=int(i/groups_qtd)):\n",
    "        pavs_groups.append([])\n",
    "    pavs_groups[int(i/groups_qtd)].append(pavs[i])\n",
    "\n"
   ]
  },
  {
   "cell_type": "code",
   "execution_count": 27,
   "metadata": {},
   "outputs": [
    {
     "data": {
      "text/plain": [
       "11"
      ]
     },
     "execution_count": 27,
     "metadata": {},
     "output_type": "execute_result"
    }
   ],
   "source": [
    "len(pavs_groups)"
   ]
  },
  {
   "cell_type": "code",
   "execution_count": 31,
   "metadata": {},
   "outputs": [
    {
     "data": {
      "text/plain": [
       "[(151, 120, 201),\n",
       " (180, 186, 206),\n",
       " (244, 222, 56),\n",
       " (39, 144, 154),\n",
       " (56, 36, 245),\n",
       " (52, 2, 229),\n",
       " (224, 173, 133),\n",
       " (154, 126, 230),\n",
       " (15, 214, 137),\n",
       " (217, 79, 98),\n",
       " (182, 121, 59)]"
      ]
     },
     "execution_count": 31,
     "metadata": {},
     "output_type": "execute_result"
    }
   ],
   "source": [
    "colors = []\n",
    "for i in range(len(pavs_groups)):\n",
    "    colors.append((random.randint(0, 255),random.randint(0, 255),random.randint(0, 255)))\n",
    "colors"
   ]
  },
  {
   "cell_type": "code",
   "execution_count": 32,
   "metadata": {},
   "outputs": [],
   "source": [
    "masks_df = []\n",
    "expressions = os.listdir(PROCESSED_PATH)\n",
    "for exp in expressions:\n",
    "    if(len(exp.split(\".\"))>1):\n",
    "        continue\n",
    "    types = os.listdir(PROCESSED_PATH + \"/\" + exp)\n",
    "    for tp in types:\n",
    "        if(len(tp.split(\".\"))>1):\n",
    "            continue\n",
    "        df = pd.read_csv(PROCESSED_PATH + \"/\" + exp+\"/\"+tp+\"/mean-lms-\"+exp+\"-\"+tp+\".csv\",index_col=0)\n",
    "        masks_df.append([exp+\"-\"+tp,df])"
   ]
  },
  {
   "cell_type": "code",
   "execution_count": 38,
   "metadata": {},
   "outputs": [
    {
     "data": {
      "text/plain": [
       "True"
      ]
     },
     "execution_count": 38,
     "metadata": {},
     "output_type": "execute_result"
    }
   ],
   "source": [
    "df = masks_df[1][1]\n",
    "mask_name = masks_df[1][0]\n",
    "\n",
    "exp,tp = mask_name.split(\"-\")\n",
    "image = np.zeros(\n",
    "            (int(final_image_size_height), int(final_image_size_width), 3), dtype='uint8')\n",
    "x = (df[\"x\"]).tolist()\n",
    "y = (df[\"y\"]).tolist()\n",
    "lms = []\n",
    "for i in range(len(x)):\n",
    "    lms.append([int(x[i]), int(y[i])])\n",
    "for i,lm in enumerate(lms):\n",
    "    color = (255,255,255)\n",
    "    if(i in pavs):\n",
    "        for j in range(len(pavs_groups)):\n",
    "            for k in pavs_groups[j]:\n",
    "                if(i == k):\n",
    "                    color = colors[j]\n",
    "                    image = cv2.putText(image, str(i), (lm), cv2.FONT_HERSHEY_SIMPLEX,0.4,color,1,cv2.LINE_AA)\n",
    "    else:\n",
    "        image = cv2.circle(image, (lm), radius=5, color=color, thickness=-1)\n",
    "    \n",
    "cv2.imwrite(\"./test.png\", image)\n"
   ]
  }
 ],
 "metadata": {
  "interpreter": {
   "hash": "49468973d77912a9ffe6c52cad84ff3913cc771154ec688a2af7d1ffcb5bb597"
  },
  "kernelspec": {
   "display_name": "Python 3.9.10 ('03-data_visualizations-BKsKRn4U')",
   "language": "python",
   "name": "python3"
  },
  "language_info": {
   "codemirror_mode": {
    "name": "ipython",
    "version": 3
   },
   "file_extension": ".py",
   "mimetype": "text/x-python",
   "name": "python",
   "nbconvert_exporter": "python",
   "pygments_lexer": "ipython3",
   "version": "3.9.10"
  },
  "orig_nbformat": 4
 },
 "nbformat": 4,
 "nbformat_minor": 2
}
