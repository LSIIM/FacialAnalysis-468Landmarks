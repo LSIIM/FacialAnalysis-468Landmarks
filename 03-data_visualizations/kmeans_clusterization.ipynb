{
 "cells": [
  {
   "cell_type": "code",
   "execution_count": 5,
   "metadata": {},
   "outputs": [],
   "source": [
    "from sklearn.cluster import KMeans\n",
    "import numpy as np\n",
    "import pandas as pd\n",
    "from definitions import *\n",
    "from tqdm import tqdm\n",
    "import cv2\n",
    "from triangles import TRIANGLES\n",
    "import random"
   ]
  },
  {
   "cell_type": "code",
   "execution_count": 5,
   "metadata": {},
   "outputs": [],
   "source": [
    "mean_neutral_face_path = PROCESSED_PATH + \"/00/mean-lms-00.csv\"\n",
    "neutral_mask = pd.read_csv(mean_neutral_face_path, index_col=0)"
   ]
  },
  {
   "cell_type": "code",
   "execution_count": 6,
   "metadata": {},
   "outputs": [],
   "source": [
    "df_pav = pd.read_csv(\"./points_above_average.csv\",index_col=0)"
   ]
  },
  {
   "cell_type": "code",
   "execution_count": 7,
   "metadata": {},
   "outputs": [],
   "source": [
    "filtered_neutral_mask = neutral_mask[neutral_mask.index.isin(df_pav[\"points_above_average\"].tolist())]"
   ]
  },
  {
   "cell_type": "code",
   "execution_count": 8,
   "metadata": {},
   "outputs": [],
   "source": [
    "points = filtered_neutral_mask.values"
   ]
  },
  {
   "cell_type": "code",
   "execution_count": 7,
   "metadata": {},
   "outputs": [],
   "source": [
    "kmeans_gruoups_qtd = 6"
   ]
  },
  {
   "cell_type": "code",
   "execution_count": 21,
   "metadata": {},
   "outputs": [],
   "source": [
    "kmeans = KMeans(n_clusters=kmeans_gruoups_qtd, random_state=0).fit(points)"
   ]
  },
  {
   "cell_type": "code",
   "execution_count": 22,
   "metadata": {},
   "outputs": [
    {
     "data": {
      "text/plain": [
       "array([1, 1, 1, 1, 1, 1, 1, 1, 1, 1, 2, 4, 1, 1, 1, 4, 1, 1, 4, 2, 2, 2,\n",
       "       2, 4, 2, 2, 2, 1, 1, 1, 1, 2, 2, 2, 4, 4, 4, 5, 5, 5, 5, 5, 5, 3,\n",
       "       0, 3, 3, 5, 5, 5, 3, 5, 5, 5, 5, 3, 0, 0, 0, 0, 3, 3, 0, 5, 5, 5,\n",
       "       5, 5, 5, 5, 5, 0, 0, 0, 3, 3, 3])"
      ]
     },
     "execution_count": 22,
     "metadata": {},
     "output_type": "execute_result"
    }
   ],
   "source": [
    "kmeans.labels_"
   ]
  },
  {
   "cell_type": "code",
   "execution_count": 23,
   "metadata": {},
   "outputs": [],
   "source": [
    "df_pav[\"kmean_group\"] = kmeans.labels_"
   ]
  },
  {
   "cell_type": "code",
   "execution_count": 24,
   "metadata": {},
   "outputs": [],
   "source": [
    "df_pav.to_csv(\"points_above_average.csv\")"
   ]
  },
  {
   "cell_type": "code",
   "execution_count": 6,
   "metadata": {},
   "outputs": [],
   "source": [
    "df_pav = pd.read_csv(\"points_above_average.csv\")"
   ]
  },
  {
   "cell_type": "code",
   "execution_count": 8,
   "metadata": {},
   "outputs": [],
   "source": [
    "pav_groups = []\n",
    "\n",
    "pav_list = df_pav[\"points_above_average\"].tolist()\n",
    "group_list = df_pav[\"kmean_group\"].tolist()\n",
    "for i in range(kmeans_gruoups_qtd):\n",
    "    gp = []\n",
    "    for j in range(len(pav_list)):\n",
    "        if(group_list[j] == i):\n",
    "            gp.append(pav_list[j])\n",
    "    pav_groups.append(gp)\n"
   ]
  },
  {
   "cell_type": "code",
   "execution_count": 9,
   "metadata": {},
   "outputs": [],
   "source": [
    "colors = []\n",
    "for i in range(kmeans_gruoups_qtd):\n",
    "    colors.append((random.randint(0, 255),random.randint(0, 255),random.randint(0, 255)))"
   ]
  },
  {
   "cell_type": "code",
   "execution_count": 27,
   "metadata": {},
   "outputs": [
    {
     "data": {
      "text/plain": [
       "True"
      ]
     },
     "execution_count": 27,
     "metadata": {},
     "output_type": "execute_result"
    }
   ],
   "source": [
    "image = np.zeros(\n",
    "            (int(final_image_size_height), int(final_image_size_width), 3), dtype='uint8')\n",
    "x = (neutral_mask[\"x\"]).tolist()\n",
    "y = (neutral_mask[\"y\"]).tolist()\n",
    "lms = []\n",
    "for i in range(len(x)):\n",
    "    lms.append([int(x[i]), int(y[i])])\n",
    "for i,lm in enumerate(lms):\n",
    "    color = (255,255,255)\n",
    "    if(i in pav_list):\n",
    "        for j in range(len(pav_groups)):\n",
    "            for k in pav_groups[j]:\n",
    "                if(i == k):\n",
    "                    color = colors[j]\n",
    "                    image = cv2.putText(image, str(i), (lm), cv2.FONT_HERSHEY_SIMPLEX,0.4,color,1,cv2.LINE_AA)\n",
    "    else:\n",
    "        image = cv2.circle(image, (lm), radius=5, color=color, thickness=-1)\n",
    "\n",
    "\n",
    "for i,color in enumerate(colors):\n",
    "    image = cv2.putText(image, 'OpenCV', (50,50*i + 50), cv2.FONT_HERSHEY_SIMPLEX, \n",
    "                   1, color, 2, cv2.LINE_AA)\n",
    "cv2.imwrite(\"./kmeans_gps_visualization.png\", image)"
   ]
  },
  {
   "cell_type": "code",
   "execution_count": null,
   "metadata": {},
   "outputs": [],
   "source": []
  }
 ],
 "metadata": {
  "interpreter": {
   "hash": "a79772d4186a48e91dee9cd9132e87fddd79abc48bf0969a53b8e58a6d41c433"
  },
  "kernelspec": {
   "display_name": "Python 3.9.10 ('03-data_visualizations-BKsKRn4U')",
   "language": "python",
   "name": "python3"
  },
  "language_info": {
   "codemirror_mode": {
    "name": "ipython",
    "version": 3
   },
   "file_extension": ".py",
   "mimetype": "text/x-python",
   "name": "python",
   "nbconvert_exporter": "python",
   "pygments_lexer": "ipython3",
   "version": "3.9.10"
  },
  "orig_nbformat": 4
 },
 "nbformat": 4,
 "nbformat_minor": 2
}
