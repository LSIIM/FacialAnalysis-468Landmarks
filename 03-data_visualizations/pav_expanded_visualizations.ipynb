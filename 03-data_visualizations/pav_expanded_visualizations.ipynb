{
 "cells": [
  {
   "cell_type": "code",
   "execution_count": 84,
   "metadata": {},
   "outputs": [],
   "source": [
    "import numpy as np\n",
    "import pandas as pd\n",
    "from definitions import *\n",
    "from tqdm import tqdm\n",
    "import cv2\n",
    "from triangles import TRIANGLES\n",
    "import random\n",
    "import plotly.express as px"
   ]
  },
  {
   "cell_type": "code",
   "execution_count": 23,
   "metadata": {},
   "outputs": [],
   "source": [
    "df_pav = pd.read_csv(\"./points_above_average_expanded.csv\",index_col=0)"
   ]
  },
  {
   "cell_type": "markdown",
   "metadata": {},
   "source": [
    "## Groups Visualization"
   ]
  },
  {
   "cell_type": "code",
   "execution_count": 14,
   "metadata": {},
   "outputs": [],
   "source": [
    "mean_neutral_face_path = PROCESSED_PATH + \"/00/mean-lms-00.csv\"\n",
    "neutral_mask = pd.read_csv(mean_neutral_face_path, index_col=0)"
   ]
  },
  {
   "cell_type": "code",
   "execution_count": 20,
   "metadata": {},
   "outputs": [],
   "source": [
    "filtered_neutral_mask = neutral_mask[neutral_mask.index.isin(df_pav[\"points_above_average\"].tolist())]\n",
    "points = filtered_neutral_mask.values"
   ]
  },
  {
   "cell_type": "code",
   "execution_count": 16,
   "metadata": {},
   "outputs": [],
   "source": [
    "colors = []\n",
    "for i in range(len(df_pav[\"kmean_group\"].unique())):\n",
    "    colors.append((random.randint(0, 255),random.randint(0, 255),random.randint(0, 255)))"
   ]
  },
  {
   "cell_type": "code",
   "execution_count": 21,
   "metadata": {},
   "outputs": [],
   "source": [
    "pav_groups = []\n",
    "\n",
    "pav_list = df_pav[\"points_above_average\"].tolist()\n",
    "group_list = df_pav[\"kmean_group\"].tolist()\n",
    "for i in range(len(df_pav[\"kmean_group\"].unique())):\n",
    "    gp = []\n",
    "    for j in range(len(pav_list)):\n",
    "        if(group_list[j] == i):\n",
    "            gp.append(pav_list[j])\n",
    "    pav_groups.append(gp)\n"
   ]
  },
  {
   "cell_type": "code",
   "execution_count": 22,
   "metadata": {},
   "outputs": [
    {
     "data": {
      "text/plain": [
       "True"
      ]
     },
     "execution_count": 22,
     "metadata": {},
     "output_type": "execute_result"
    }
   ],
   "source": [
    "image = np.zeros(\n",
    "            (int(final_image_size_height), int(final_image_size_width), 3), dtype='uint8')\n",
    "x = (neutral_mask[\"x\"]).tolist()\n",
    "y = (neutral_mask[\"y\"]).tolist()\n",
    "lms = []\n",
    "for i in range(len(x)):\n",
    "    lms.append([int(x[i]), int(y[i])])\n",
    "for i,lm in enumerate(lms):\n",
    "    color = (255,255,255)\n",
    "    if(i in pav_list):\n",
    "        for j in range(len(pav_groups)):\n",
    "            for k in pav_groups[j]:\n",
    "                if(i == k):\n",
    "                    color = colors[j]\n",
    "                    image = cv2.putText(image, str(i), (lm), cv2.FONT_HERSHEY_SIMPLEX,0.4,color,1,cv2.LINE_AA)\n",
    "    else:\n",
    "        image = cv2.circle(image, (lm), radius=5, color=color, thickness=-1)\n",
    "\n",
    "\n",
    "for i,color in enumerate(colors):\n",
    "    image = cv2.putText(image, f'Grupo {i}', (50,50*i + 50), cv2.FONT_HERSHEY_SIMPLEX, \n",
    "                   1, color, 2, cv2.LINE_AA)\n",
    "cv2.imwrite(\"./kmeans_gps_expanded_visualization.png\", image)"
   ]
  },
  {
   "cell_type": "markdown",
   "metadata": {},
   "source": [
    "## Plot creation"
   ]
  },
  {
   "cell_type": "code",
   "execution_count": 88,
   "metadata": {},
   "outputs": [],
   "source": [
    "\n",
    "df_aggr_happy = pd.DataFrame()"
   ]
  },
  {
   "cell_type": "code",
   "execution_count": 89,
   "metadata": {},
   "outputs": [],
   "source": [
    "path = PATTERN_TEST_PATH_SAME_POINT\n",
    "gp = [\n",
    "    [\"Grupo 00\",[]],\n",
    "    [\"Grupo 01\",[]],\n",
    "    [\"Grupo 02\",[]],\n",
    "    [\"Grupo 03\",[]],\n",
    "    [\"Grupo 04\",[]],\n",
    "    [\"Grupo 05\",[]],\n",
    "    [\"Grupo 06\",[]],\n",
    "    [\"Grupo 07\",[]],\n",
    "    [\"id_user\",[]]\n",
    "]\n",
    "users = os.listdir(path)\n",
    "for user in users:\n",
    "    path_u = path+f'/{user}'\n",
    "    df_aux = pd.read_csv(path_u+\"/05-00_00-00.csv\", index_col=0)\n",
    "    df_aux =df_aux[df_aux[\"origins\"].isin(df_pav[\"points_above_average\"].tolist())]\n",
    "    df_aux = df_aux.set_index('origins').join(df_pav.set_index('points_above_average'))\n",
    "    distances_means = df_aux.groupby(\"kmean_group\").mean()[\"distances\"].tolist()\n",
    "    for i, dist in enumerate(distances_means):\n",
    "        gp[i][1].append(dist)\n",
    "    gp[8][1].append(int(user))"
   ]
  },
  {
   "cell_type": "code",
   "execution_count": 90,
   "metadata": {},
   "outputs": [],
   "source": [
    "for dt in gp:\n",
    "    col, data = dt\n",
    "    df_aggr_happy[col] = np.array(data)"
   ]
  },
  {
   "cell_type": "code",
   "execution_count": 91,
   "metadata": {},
   "outputs": [],
   "source": [
    "tests_df = pd.read_csv(FORMS_PATH+\"/total_scores_by_user.csv\",index_col=0)"
   ]
  },
  {
   "cell_type": "code",
   "execution_count": 92,
   "metadata": {},
   "outputs": [],
   "source": [
    "df_aggr_happy = df_aggr_happy.set_index('id_user').join(tests_df.set_index('id_user'))"
   ]
  },
  {
   "cell_type": "code",
   "execution_count": 93,
   "metadata": {},
   "outputs": [
    {
     "data": {
      "text/html": [
       "<div>\n",
       "<style scoped>\n",
       "    .dataframe tbody tr th:only-of-type {\n",
       "        vertical-align: middle;\n",
       "    }\n",
       "\n",
       "    .dataframe tbody tr th {\n",
       "        vertical-align: top;\n",
       "    }\n",
       "\n",
       "    .dataframe thead th {\n",
       "        text-align: right;\n",
       "    }\n",
       "</style>\n",
       "<table border=\"1\" class=\"dataframe\">\n",
       "  <thead>\n",
       "    <tr style=\"text-align: right;\">\n",
       "      <th></th>\n",
       "      <th>Grupo 00</th>\n",
       "      <th>Grupo 01</th>\n",
       "      <th>Grupo 02</th>\n",
       "      <th>Grupo 03</th>\n",
       "      <th>Grupo 04</th>\n",
       "      <th>Grupo 05</th>\n",
       "      <th>Grupo 06</th>\n",
       "      <th>Grupo 07</th>\n",
       "      <th>dbi_score</th>\n",
       "      <th>bai_score</th>\n",
       "      <th>asrsa_score</th>\n",
       "      <th>asrsb_score</th>\n",
       "      <th>oci_score</th>\n",
       "      <th>sqr_score</th>\n",
       "      <th>age</th>\n",
       "    </tr>\n",
       "    <tr>\n",
       "      <th>id_user</th>\n",
       "      <th></th>\n",
       "      <th></th>\n",
       "      <th></th>\n",
       "      <th></th>\n",
       "      <th></th>\n",
       "      <th></th>\n",
       "      <th></th>\n",
       "      <th></th>\n",
       "      <th></th>\n",
       "      <th></th>\n",
       "      <th></th>\n",
       "      <th></th>\n",
       "      <th></th>\n",
       "      <th></th>\n",
       "      <th></th>\n",
       "    </tr>\n",
       "  </thead>\n",
       "  <tbody>\n",
       "    <tr>\n",
       "      <th>1</th>\n",
       "      <td>16.777778</td>\n",
       "      <td>27.315789</td>\n",
       "      <td>6.181818</td>\n",
       "      <td>19.2</td>\n",
       "      <td>15.142857</td>\n",
       "      <td>40.047619</td>\n",
       "      <td>1.294118</td>\n",
       "      <td>2.588235</td>\n",
       "      <td>3.0</td>\n",
       "      <td>2.0</td>\n",
       "      <td>12.0</td>\n",
       "      <td>14.0</td>\n",
       "      <td>9.0</td>\n",
       "      <td>0.0</td>\n",
       "      <td>22</td>\n",
       "    </tr>\n",
       "    <tr>\n",
       "      <th>5</th>\n",
       "      <td>38.444444</td>\n",
       "      <td>48.578947</td>\n",
       "      <td>22.454545</td>\n",
       "      <td>48.1</td>\n",
       "      <td>38.571429</td>\n",
       "      <td>74.666667</td>\n",
       "      <td>14.352941</td>\n",
       "      <td>17.352941</td>\n",
       "      <td>17.0</td>\n",
       "      <td>18.0</td>\n",
       "      <td>21.0</td>\n",
       "      <td>12.0</td>\n",
       "      <td>25.0</td>\n",
       "      <td>13.0</td>\n",
       "      <td>20</td>\n",
       "    </tr>\n",
       "    <tr>\n",
       "      <th>7</th>\n",
       "      <td>32.333333</td>\n",
       "      <td>84.105263</td>\n",
       "      <td>28.272727</td>\n",
       "      <td>47.9</td>\n",
       "      <td>56.285714</td>\n",
       "      <td>80.238095</td>\n",
       "      <td>12.470588</td>\n",
       "      <td>10.941176</td>\n",
       "      <td>11.0</td>\n",
       "      <td>5.0</td>\n",
       "      <td>9.0</td>\n",
       "      <td>10.0</td>\n",
       "      <td>20.0</td>\n",
       "      <td>5.0</td>\n",
       "      <td>23</td>\n",
       "    </tr>\n",
       "    <tr>\n",
       "      <th>8</th>\n",
       "      <td>28.777778</td>\n",
       "      <td>57.684211</td>\n",
       "      <td>28.272727</td>\n",
       "      <td>21.6</td>\n",
       "      <td>24.714286</td>\n",
       "      <td>69.857143</td>\n",
       "      <td>5.176471</td>\n",
       "      <td>7.588235</td>\n",
       "      <td>2.0</td>\n",
       "      <td>6.0</td>\n",
       "      <td>13.0</td>\n",
       "      <td>10.0</td>\n",
       "      <td>14.0</td>\n",
       "      <td>2.0</td>\n",
       "      <td>21</td>\n",
       "    </tr>\n",
       "    <tr>\n",
       "      <th>9</th>\n",
       "      <td>15.111111</td>\n",
       "      <td>26.000000</td>\n",
       "      <td>15.181818</td>\n",
       "      <td>12.1</td>\n",
       "      <td>12.714286</td>\n",
       "      <td>35.333333</td>\n",
       "      <td>2.705882</td>\n",
       "      <td>7.529412</td>\n",
       "      <td>9.0</td>\n",
       "      <td>3.0</td>\n",
       "      <td>22.0</td>\n",
       "      <td>4.0</td>\n",
       "      <td>16.0</td>\n",
       "      <td>8.0</td>\n",
       "      <td>22</td>\n",
       "    </tr>\n",
       "  </tbody>\n",
       "</table>\n",
       "</div>"
      ],
      "text/plain": [
       "          Grupo 00   Grupo 01   Grupo 02  Grupo 03   Grupo 04   Grupo 05  \\\n",
       "id_user                                                                    \n",
       "1        16.777778  27.315789   6.181818      19.2  15.142857  40.047619   \n",
       "5        38.444444  48.578947  22.454545      48.1  38.571429  74.666667   \n",
       "7        32.333333  84.105263  28.272727      47.9  56.285714  80.238095   \n",
       "8        28.777778  57.684211  28.272727      21.6  24.714286  69.857143   \n",
       "9        15.111111  26.000000  15.181818      12.1  12.714286  35.333333   \n",
       "\n",
       "          Grupo 06   Grupo 07  dbi_score  bai_score  asrsa_score  asrsb_score  \\\n",
       "id_user                                                                         \n",
       "1         1.294118   2.588235        3.0        2.0         12.0         14.0   \n",
       "5        14.352941  17.352941       17.0       18.0         21.0         12.0   \n",
       "7        12.470588  10.941176       11.0        5.0          9.0         10.0   \n",
       "8         5.176471   7.588235        2.0        6.0         13.0         10.0   \n",
       "9         2.705882   7.529412        9.0        3.0         22.0          4.0   \n",
       "\n",
       "         oci_score  sqr_score  age  \n",
       "id_user                             \n",
       "1              9.0        0.0   22  \n",
       "5             25.0       13.0   20  \n",
       "7             20.0        5.0   23  \n",
       "8             14.0        2.0   21  \n",
       "9             16.0        8.0   22  "
      ]
     },
     "execution_count": 93,
     "metadata": {},
     "output_type": "execute_result"
    }
   ],
   "source": [
    "df_aggr_happy.head()"
   ]
  },
  {
   "cell_type": "markdown",
   "metadata": {},
   "source": [
    "### 05 x 06"
   ]
  },
  {
   "cell_type": "code",
   "execution_count": 98,
   "metadata": {},
   "outputs": [],
   "source": [
    "fig = px.scatter_3d(df_aggr_happy, x='Grupo 05', y='Grupo 06', z='dbi_score')\n",
    "fig.write_html(\"fake_smile_verification/05x06.html\")"
   ]
  },
  {
   "cell_type": "markdown",
   "metadata": {},
   "source": [
    "### 01 x 07"
   ]
  },
  {
   "cell_type": "code",
   "execution_count": 97,
   "metadata": {},
   "outputs": [],
   "source": [
    "fig = px.scatter_3d(df_aggr_happy, x='Grupo 01', y='Grupo 07', z='dbi_score')\n",
    "fig.write_html(\"fake_smile_verification/01x07.html\")"
   ]
  }
 ],
 "metadata": {
  "kernelspec": {
   "display_name": "Python 3.9.10 ('03-data_visualizations-BKsKRn4U')",
   "language": "python",
   "name": "python3"
  },
  "language_info": {
   "codemirror_mode": {
    "name": "ipython",
    "version": 3
   },
   "file_extension": ".py",
   "mimetype": "text/x-python",
   "name": "python",
   "nbconvert_exporter": "python",
   "pygments_lexer": "ipython3",
   "version": "3.9.10"
  },
  "orig_nbformat": 4,
  "vscode": {
   "interpreter": {
    "hash": "a79772d4186a48e91dee9cd9132e87fddd79abc48bf0969a53b8e58a6d41c433"
   }
  }
 },
 "nbformat": 4,
 "nbformat_minor": 2
}
